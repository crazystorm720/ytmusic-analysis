import json
from ytmusicapi import YTMusic
import pandas as pd
import matplotlib.pyplot as plt
import seaborn as sns

# Load the authentication credentials from auth.json
with open('../auth.json') as f:
    auth_data = json.load(f)

# Authenticate with the YouTube Music API
yt = YTMusic(auth=auth_data)

# Retrieve the listening history data
history = yt.get_history()

# Convert the listening history data into a DataFrame
df = pd.DataFrame(history)
df['played_at'] = pd.to_datetime(df['played_at'])

# Analyze listening patterns over time

# Hourly trends
df['hour'] = df['played_at'].dt.hour
hourly_counts = df['hour'].value_counts().sort_index()

# Daily trends
df['date'] = df['played_at'].dt.date
daily_counts = df.groupby('date').size()

# Weekly trends
df['weekday'] = df['played_at'].dt.weekday
weekday_counts = df['weekday'].value_counts().sort_index()

# Identify most played songs, artists, or genres

# Most played songs
most_played_songs = df['title'].value_counts().head(10)

# Most played artists
most_played_artists = df['artists'].explode().value_counts().head(10)

# Most played genres (assuming genre information is available)
most_played_genres = df['genre'].value_counts().head(10)

# Visualize listening activity

# Hourly trend visualization
plt.figure(figsize=(10, 6))
sns.lineplot(x=hourly_counts.index, y=hourly_counts.values)
plt.xlabel('Hour')
plt.ylabel('Number of Plays')
plt.title('Listening Activity by Hour')
plt.savefig('../docs/images/hourly_activity.png')
plt.show()

# Daily trend visualization
plt.figure(figsize=(12, 6))
sns.lineplot(x=daily_counts.index, y=daily_counts.values)
plt.xlabel('Date')
plt.ylabel('Number of Plays')
plt.title('Listening Activity by Date')
plt.xticks(rotation=45)
plt.savefig('../docs/images/daily_activity.png')
plt.show()

# Weekly trend visualization
plt.figure(figsize=(10, 6))
sns.barplot(x=weekday_counts.index, y=weekday_counts.values)
plt.xlabel('Weekday')
plt.ylabel('Number of Plays')
plt.title('Listening Activity by Weekday')
plt.savefig('../docs/images/weekly_activity.png')
plt.show()

# Most played songs visualization
plt.figure(figsize=(10, 8))
sns.barplot(x=most_played_songs.values, y=most_played_songs.index, orient='h')
plt.xlabel('Play Count')
plt.ylabel('Song Title')
plt.title('Most Played Songs')
plt.savefig('../docs/images/most_played_songs.png')
plt.show()

# Most played artists visualization
plt.figure(figsize=(10, 8))
sns.barplot(x=most_played_artists.values, y=most_played_artists.index, orient='h')
plt.xlabel('Play Count')
plt.ylabel('Artist')
plt.title('Most Played Artists')
plt.savefig('../docs/images/most_played_artists.png')
plt.show()

# Genre distribution visualization
plt.figure(figsize=(8, 8))
plt.pie(most_played_genres.values, labels=most_played_genres.index, autopct='%1.1f%%')
plt.title('Genre Distribution')
plt.savefig('../docs/images/genre_distribution.png')
plt.show()
