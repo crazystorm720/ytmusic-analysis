{
 "cells": [
  {
   "cell_type": "markdown",
   "id": "d1d1f0a1",
   "metadata": {},
   "source": [
    "# YouTube Music Listening History Analysis\n",
    "\n",
    "This notebook analyzes and visualizes your YouTube Music listening history data using the `ytmusicapi` library and Python."
   ]
  },
  {
   "cell_type": "markdown",
   "id": "40c9d6b0",
   "metadata": {},
   "source": [
    "## Setup\n",
    "\n",
    "First, let's import the necessary libraries and authenticate with the YouTube Music API."
   ]
  },
  {
   "cell_type": "code",
   "execution_count": null,
   "id": "c71d54b4",
   "metadata": {},
   "outputs": [],
   "source": [
    "import json\n",
    "from ytmusicapi import YTMusic\n",
    "import pandas as pd\n",
    "import matplotlib.pyplot as plt\n",
    "import seaborn as sns\n",
    "\n",
    "# Load the authentication credentials from auth.json\n",
    "with open('../../auth.json') as f:\n",
    "    auth_data = json.load(f)\n",
    "\n",
    "# Authenticate with the YouTube Music API\n",
    "yt = YTMusic(auth=auth_data)"
   ]
  },
  {
   "cell_type": "markdown",
   "id": "c28f0a1d",
   "metadata": {},
   "source": [
    "## Data Retrieval\n",
    "\n",
    "Next, we'll retrieve the listening history data and convert it into a pandas DataFrame."
   ]
  },
  {
   "cell_type": "code",
   "execution_count": null,
   "id": "b3d35b54",
   "metadata": {},
   "outputs": [],
   "source": [
    "# Retrieve the listening history data\n",
    "history = yt.get_history()\n",
    "\n",
    "# Convert the listening history data into a DataFrame\n",
    "df = pd.DataFrame(history)\n",
    "df['played_at'] = pd.to_datetime(df['played_at'])"
   ]
  },
  {
   "cell_type": "markdown",
   "id": "31eaaee0",
   "metadata": {},
   "source": [
    "## Listening Patterns Analysis\n",
    "\n",
    "Now, let's analyze the listening patterns over time, including hourly, daily, and weekly trends."
   ]
  },
  {
   "cell_type": "code",
   "execution_count": null,
   "id": "c7e5c0e1",
   "metadata": {},
   "outputs": [],
   "source": [
    "# Analyze listening patterns over time\n",
    "\n",
    "# Hourly trends\n",
    "df['hour'] = df['played_at'].dt.hour\n",
    "hourly_counts = df['hour'].value_counts().sort_index()\n",
    "\n",
    "# Daily trends\n",
    "df['date'] = df['played_at'].dt.date\n",
    "daily_counts = df.groupby('date').size()\n",
    "\n",
    "# Weekly trends\n",
    "df['weekday'] = df['played_at'].dt.weekday\n",
    "weekday_counts = df['weekday'].value_counts().sort_index()"
   ]
  },
  {
   "cell_type": "markdown",
   "id": "e26cee1b",
   "metadata": {},
   "source": [
    "## Most Played Songs, Artists, and Genres\n",
    "\n",
    "Next, we'll identify the most played songs, artists, and genres based on the listening history data."
   ]
  },
  {
   "cell_type": "code",
   "execution_count": null,
   "id": "0bea1ee0",
   "metadata": {},
   "outputs": [],
   "source": [
    "# Identify most played songs, artists, or genres\n",
    "\n",
    "# Most played songs\n",
    "most_played_songs = df['title'].value_counts().head(10)\n",
    "\n",
    "# Most played artists\n",
    "most_played_artists = df['artists'].explode().value_counts().head(10)\n",
    "\n",
    "# Most played genres (assuming genre information is available)\n",
    "most_played_genres = df['genre'].value_counts().head(10)"
   ]
  },
  {
   "cell_type": "markdown",
   "id": "3b4e3e5e",
   "metadata": {},
   "source": [
    "## Visualizations\n",
    "\n",
    "Finally, let's create visualizations to showcase the listening activity and patterns."
   ]
  },
  {
   "cell_type": "markdown",
   "id": "e0e05a18",
   "metadata": {},
   "source": [
    "### Hourly Trend Visualization"
   ]
  },
  {
   "cell_type": "code",
   "execution_count": null,
   "id": "266e58d4",
   "metadata": {},
   "outputs": [],
   "source": [
    "plt.figure(figsize=(10, 6))\n",
    "sns.lineplot(x=hourly_counts.index, y=hourly_counts.values)\n",
    "plt.xlabel('Hour')\n",
    "plt.ylabel('Number of Plays')\n",
    "plt.title('Listening Activity by Hour')\n",
    "plt.savefig('../images/hourly_activity.png')\n",
    "plt.show()"
   ]
  },
  {
   "cell_type": "markdown",
   "id": "7c07b43a",
   "metadata": {},
   "source": [
    "### Daily Trend Visualization"
   ]
  },
  {
   "cell_type": "code",
   "execution_count": null,
   "id": "4e72addb",
   "metadata": {},
   "outputs": [],
   "source": [
    "plt.figure(figsize=(12, 6))\n",
    "sns.lineplot(x=daily_counts.index, y=daily_counts.values)\n",
    "plt.xlabel('Date')\n",
    "plt.ylabel('Number of Plays')\n",
    "plt.title('Listening Activity by Date')\n",
    "plt.xticks(rotation=45)\n",
    "plt.savefig('../images/daily_activity.png')\n",
    "plt.show()"
   ]
  },
  {
   "cell_type": "markdown",
   "id": "e8f1bafd",
   "metadata": {},
   "source": [
    "### Weekly Trend Visualization"
   ]
  },
  {
   "cell_type": "code",
   "execution_count": null,
   "id": "f1b7b6aa",
   "metadata": {},
   "outputs": [],
   "source": [
    "plt.figure(figsize=(10, 6))\n",
    "sns.barplot(x=weekday_counts.index, y=weekday_counts.values)\n",
    "plt.xlabel('Weekday')\n",
    "plt.ylabel('Number of Plays')\n",
    "plt.title('Listening Activity by Weekday')\n",
    "plt.savefig('../images/weekly_activity.png')\n",
    "plt.show()"
   ]
  },
  {
   "cell_type": "markdown",
   "id": "10b9c75d",
   "metadata": {},
   "source": [
    "### Most Played Songs Visualization"
   ]
  },
  {
   "cell_type": "code",
   "execution_count": null,
   "id": "3b7c1b63",
   "metadata": {},
   "outputs": [],
   "source": [
    "plt.figure(figsize=(10, 8))\n",
    "sns.barplot(x=most_played_songs.values, y=most_played_songs.index, orient='h')\n",
    "plt.xlabel('Play Count')\n",
    "plt.ylabel('Song Title')\n",
    "plt.title('Most Played Songs')\n",
    "plt.savefig('../images/most_played_songs.png')\n",
    "plt.show()"
   ]
  },
  {
   "cell_type": "markdown",
   "id": "50df0a2c",
   "metadata": {},
   "source": [
    "### Most Played Artists Visualization"
   ]
  },
  {
   "cell_type": "code",
   "execution_count": null,
   "id": "0e95799f",
   "metadata": {},
   "outputs": [],
   "source": [
    "plt.figure(figsize=(10, 8))\n",
    "sns.barplot(x=most_played_artists.values, y=most_played_artists.index, orient='h')\n",
    "plt.xlabel('Play Count')\n",
    "plt.ylabel('Artist')\n",
    "plt.title('Most Played Artists')\n",
    "plt.savefig('../images/most_played_artists.png')\n",
    "plt.show()"
   ]
  },
  {
   "cell_type": "markdown",
   "id": "03b9d0f9",
   "metadata": {},
   "source": [
    "### Genre Distribution Visualization"
   ]
  },
  {
   "cell_type": "code",
   "execution_count": null,
   "id": "437b16da",
   "metadata": {},
   "outputs": [],
   "source": [
    "plt.figure(figsize=(8, 8))\n",
    "plt.pie(most_played_genres.values, labels=most_played_genres.index, autopct='%1.1f%%')\n",
    "plt.title('Genre Distribution')\n",
    "plt.savefig('../images/genre_distribution.png')\n",
    "plt.show()"
   ]
  }
 ],
 "metadata": {
  "kernelspec": {
   "display_name": "Python 3 (ipykernel)",
   "language": "python",
   "name": "python3"
  },
  "language_info": {
   "codemirror_mode": {
    "name": "ipython",
    "version": 3
   },
   "file_extension": ".py",
   "mimetype": "text/x-python",
   "name": "python",
   "nbconvert_exporter": "python",
   "pygments_lexer": "ipython3",
   "version": "3.11.9"
  }
 },
 "nbformat": 4,
 "nbformat_minor": 5
}
